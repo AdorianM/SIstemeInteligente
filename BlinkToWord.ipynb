{
 "cells": [
  {
   "cell_type": "markdown",
   "metadata": {},
   "source": [
    "### InceptionV3"
   ]
  },
  {
   "cell_type": "markdown",
   "metadata": {},
   "source": [
    "Sistemul utilizat in cadrul articolului foloseste arhitectura InceptionV3. Aceasta arhitectura ofera o acuratete de 99.20% cu o latenta de 94.1ms pe device-urile IoT, o metoda sigura, performanta si robusta in cazul schimbarilor conditiilor de lumina sau a orientarilor faciale."
   ]
  },
  {
   "cell_type": "markdown",
   "metadata": {},
   "source": [
    "### Eliminarea problemelor"
   ]
  },
  {
   "cell_type": "markdown",
   "metadata": {},
   "source": [
    "Un sistem care functioneaza fara probleme si in timp real este reprezentat prin ecuatia (1) unde variabilele sunt:<br>\n",
    "**P** - Performanta sistemului (acuratetea)<br>\n",
    "**S** - Parametrii sistemului<br>\n",
    "**W** - Weight-urile din cadrul retelei neuronale<br>\n",
    "**A** - Arhitectura sistemului<br>\n",
    "**H** - Setul de arhitecturi care pot fi folosite<br>\n",
    "**T** - Restrangerea de timp pentru predictie (timp de raspuns sau latenta)<br>"
   ]
  },
  {
   "cell_type": "markdown",
   "metadata": {},
   "source": [
    "![title](Images/Eq1.png)"
   ]
  },
  {
   "cell_type": "markdown",
   "metadata": {},
   "source": [
    "### Scop"
   ]
  },
  {
   "cell_type": "markdown",
   "metadata": {},
   "source": [
    "Scopul acestei abordari este detectarea momentelor in care pacientii clipesc si maparea acestora la un dictionar de cuvinte. Pentru a se ajunge la asta se detecteaza toate starile 'Open' urmate de stari 'Closed'."
   ]
  },
  {
   "cell_type": "markdown",
   "metadata": {},
   "source": [
    "### Faze de procesare"
   ]
  },
  {
   "cell_type": "markdown",
   "metadata": {},
   "source": [
    "![title](Images/Phases.png)"
   ]
  },
  {
   "cell_type": "markdown",
   "metadata": {},
   "source": [
    "### Faza 1. Capturarea si salvarea mai multor cadre"
   ]
  },
  {
   "cell_type": "markdown",
   "metadata": {},
   "source": [
    "Metoda de obtinere a datelor pentru ConvNet este folosirea unei camere atasata de un sistem IoT pentru capturarea cadrelor. Imaginile salvate vor avea dimensiuni de 80 x 70 pixeli. Pentru scopul acestui proiect, aceasta parte nu va fi implementata."
   ]
  },
  {
   "cell_type": "markdown",
   "metadata": {},
   "source": [
    "### Faza 2. Prezicerea continutului imaginii."
   ]
  },
  {
   "cell_type": "markdown",
   "metadata": {},
   "source": [
    "Se compara arhitecturile **SqueezeNet**, **ResNet**, **InceptionV3**, **DenseNet**.\n",
    "Se antreneaza retelele pentru diferite dimensiuni de batch care dau cele mai bune rezultate."
   ]
  },
  {
   "cell_type": "markdown",
   "metadata": {},
   "source": [
    "**Setul de date** folosit este 'eye dataset' de la Media Research Lab (MRL). Acest set de date contine 84898 imagini cu ochi ai 37 de indivizi (33 barbati si 4 femei).<br>\n",
    "Dataset-ul contine 6 clase: 'gender', 'glasses', 'eye state', 'reflections', 'lighting condition' si 'sensor resolution'."
   ]
  },
  {
   "cell_type": "markdown",
   "metadata": {},
   "source": [
    "Am preluat acest set de date de pe site-ul oficial MRL de la link-ul http://mrl.cs.vsb.cz/eyedataset . Aceste date se regasesc sub forma pozelor cu denumiri care specifica cele 6 clase a dataset-ului.<br>Ordinea proprietatilor este: <br> **SubjectID**, **ImageID**<br>**gender**[0 - man, 1 - woman]<br> **glasses**[0 - no, 1 - yes]<br> **eye state** [0 - closed, 1 - open]<br> **reflections** [0 - none, 1 - small, 2 - big]<br> **lighting conditions** [0 - bad, 1 - good]<br> **sensor ID** [01 - RealSense, 02 - IDS, 03 - Aptina]<br>"
   ]
  },
  {
   "cell_type": "markdown",
   "metadata": {},
   "source": [
    "Un exemplu de denumire: s0012_03054_0_1_0_2_1_01.<br>Asta inseamna ca ochii sunt ai subiectului 12, poza are id-ul 03054, subiectul e barbat, poarta ochelari, ochiul este inchis, exista o reflexie mare in poza, luminozitate buna, senzorul folosit a fost RealSense"
   ]
  },
  {
   "cell_type": "markdown",
   "metadata": {},
   "source": [
    "# Convolutional. "
   ]
  },
  {
   "cell_type": "markdown",
   "metadata": {},
   "source": [
    "Un fisier .CSV s-a realizat pentru fiecare subiect prin comanda `dir | Get-ChildItem -BaseName -Recurse | Export-Csv Data.csv`, iar apoi datele din CSV au fost impartite pe coloane in functie de separatorul `_`."
   ]
  },
  {
   "cell_type": "markdown",
   "metadata": {},
   "source": [
    "Mai departe am ales sa folosesc libraria Keras pentru a transforma in date imagini de diferite dimensiuni din setul de date descarcat."
   ]
  },
  {
   "cell_type": "code",
   "execution_count": 1,
   "metadata": {},
   "outputs": [
    {
     "name": "stderr",
     "output_type": "stream",
     "text": [
      "Using TensorFlow backend.\n",
      "C:\\ProgramData\\Anaconda3\\lib\\site-packages\\tensorflow\\python\\framework\\dtypes.py:526: FutureWarning: Passing (type, 1) or '1type' as a synonym of type is deprecated; in a future version of numpy, it will be understood as (type, (1,)) / '(1,)type'.\n",
      "  _np_qint8 = np.dtype([(\"qint8\", np.int8, 1)])\n",
      "C:\\ProgramData\\Anaconda3\\lib\\site-packages\\tensorflow\\python\\framework\\dtypes.py:527: FutureWarning: Passing (type, 1) or '1type' as a synonym of type is deprecated; in a future version of numpy, it will be understood as (type, (1,)) / '(1,)type'.\n",
      "  _np_quint8 = np.dtype([(\"quint8\", np.uint8, 1)])\n",
      "C:\\ProgramData\\Anaconda3\\lib\\site-packages\\tensorflow\\python\\framework\\dtypes.py:528: FutureWarning: Passing (type, 1) or '1type' as a synonym of type is deprecated; in a future version of numpy, it will be understood as (type, (1,)) / '(1,)type'.\n",
      "  _np_qint16 = np.dtype([(\"qint16\", np.int16, 1)])\n",
      "C:\\ProgramData\\Anaconda3\\lib\\site-packages\\tensorflow\\python\\framework\\dtypes.py:529: FutureWarning: Passing (type, 1) or '1type' as a synonym of type is deprecated; in a future version of numpy, it will be understood as (type, (1,)) / '(1,)type'.\n",
      "  _np_quint16 = np.dtype([(\"quint16\", np.uint16, 1)])\n",
      "C:\\ProgramData\\Anaconda3\\lib\\site-packages\\tensorflow\\python\\framework\\dtypes.py:530: FutureWarning: Passing (type, 1) or '1type' as a synonym of type is deprecated; in a future version of numpy, it will be understood as (type, (1,)) / '(1,)type'.\n",
      "  _np_qint32 = np.dtype([(\"qint32\", np.int32, 1)])\n",
      "C:\\ProgramData\\Anaconda3\\lib\\site-packages\\tensorflow\\python\\framework\\dtypes.py:535: FutureWarning: Passing (type, 1) or '1type' as a synonym of type is deprecated; in a future version of numpy, it will be understood as (type, (1,)) / '(1,)type'.\n",
      "  np_resource = np.dtype([(\"resource\", np.ubyte, 1)])\n"
     ]
    }
   ],
   "source": [
    "import pandas as pd\n",
    "import numpy as np\n",
    "import keras\n",
    "from keras.preprocessing.image import ImageDataGenerator\n",
    "from PIL import Image\n",
    "import matplotlib.pyplot as plt"
   ]
  },
  {
   "cell_type": "code",
   "execution_count": 2,
   "metadata": {},
   "outputs": [],
   "source": [
    "data = pd.read_csv(\"Data.csv\")"
   ]
  },
  {
   "cell_type": "code",
   "execution_count": 3,
   "metadata": {},
   "outputs": [
    {
     "data": {
      "text/html": [
       "<div>\n",
       "<style scoped>\n",
       "    .dataframe tbody tr th:only-of-type {\n",
       "        vertical-align: middle;\n",
       "    }\n",
       "\n",
       "    .dataframe tbody tr th {\n",
       "        vertical-align: top;\n",
       "    }\n",
       "\n",
       "    .dataframe thead th {\n",
       "        text-align: right;\n",
       "    }\n",
       "</style>\n",
       "<table border=\"1\" class=\"dataframe\">\n",
       "  <thead>\n",
       "    <tr style=\"text-align: right;\">\n",
       "      <th></th>\n",
       "      <th>SubjectID</th>\n",
       "      <th>ImageID</th>\n",
       "      <th>Gender</th>\n",
       "      <th>Glasses</th>\n",
       "      <th>Reflections</th>\n",
       "      <th>Lighting</th>\n",
       "      <th>SensorID</th>\n",
       "      <th>Eye_state</th>\n",
       "    </tr>\n",
       "  </thead>\n",
       "  <tbody>\n",
       "    <tr>\n",
       "      <th>0</th>\n",
       "      <td>s0001</td>\n",
       "      <td>1</td>\n",
       "      <td>0</td>\n",
       "      <td>0</td>\n",
       "      <td>0</td>\n",
       "      <td>0</td>\n",
       "      <td>1</td>\n",
       "      <td>0</td>\n",
       "    </tr>\n",
       "    <tr>\n",
       "      <th>1</th>\n",
       "      <td>s0001</td>\n",
       "      <td>2</td>\n",
       "      <td>0</td>\n",
       "      <td>0</td>\n",
       "      <td>0</td>\n",
       "      <td>0</td>\n",
       "      <td>1</td>\n",
       "      <td>0</td>\n",
       "    </tr>\n",
       "    <tr>\n",
       "      <th>2</th>\n",
       "      <td>s0001</td>\n",
       "      <td>3</td>\n",
       "      <td>0</td>\n",
       "      <td>0</td>\n",
       "      <td>0</td>\n",
       "      <td>0</td>\n",
       "      <td>1</td>\n",
       "      <td>0</td>\n",
       "    </tr>\n",
       "    <tr>\n",
       "      <th>3</th>\n",
       "      <td>s0001</td>\n",
       "      <td>4</td>\n",
       "      <td>0</td>\n",
       "      <td>0</td>\n",
       "      <td>0</td>\n",
       "      <td>0</td>\n",
       "      <td>1</td>\n",
       "      <td>0</td>\n",
       "    </tr>\n",
       "    <tr>\n",
       "      <th>4</th>\n",
       "      <td>s0001</td>\n",
       "      <td>5</td>\n",
       "      <td>0</td>\n",
       "      <td>0</td>\n",
       "      <td>0</td>\n",
       "      <td>0</td>\n",
       "      <td>1</td>\n",
       "      <td>0</td>\n",
       "    </tr>\n",
       "    <tr>\n",
       "      <th>...</th>\n",
       "      <td>...</td>\n",
       "      <td>...</td>\n",
       "      <td>...</td>\n",
       "      <td>...</td>\n",
       "      <td>...</td>\n",
       "      <td>...</td>\n",
       "      <td>...</td>\n",
       "      <td>...</td>\n",
       "    </tr>\n",
       "    <tr>\n",
       "      <th>84893</th>\n",
       "      <td>s0037</td>\n",
       "      <td>10253</td>\n",
       "      <td>1</td>\n",
       "      <td>1</td>\n",
       "      <td>0</td>\n",
       "      <td>0</td>\n",
       "      <td>1</td>\n",
       "      <td>1</td>\n",
       "    </tr>\n",
       "    <tr>\n",
       "      <th>84894</th>\n",
       "      <td>s0037</td>\n",
       "      <td>10254</td>\n",
       "      <td>1</td>\n",
       "      <td>1</td>\n",
       "      <td>0</td>\n",
       "      <td>0</td>\n",
       "      <td>1</td>\n",
       "      <td>1</td>\n",
       "    </tr>\n",
       "    <tr>\n",
       "      <th>84895</th>\n",
       "      <td>s0037</td>\n",
       "      <td>10255</td>\n",
       "      <td>1</td>\n",
       "      <td>1</td>\n",
       "      <td>0</td>\n",
       "      <td>0</td>\n",
       "      <td>1</td>\n",
       "      <td>1</td>\n",
       "    </tr>\n",
       "    <tr>\n",
       "      <th>84896</th>\n",
       "      <td>s0037</td>\n",
       "      <td>10256</td>\n",
       "      <td>1</td>\n",
       "      <td>1</td>\n",
       "      <td>0</td>\n",
       "      <td>0</td>\n",
       "      <td>1</td>\n",
       "      <td>1</td>\n",
       "    </tr>\n",
       "    <tr>\n",
       "      <th>84897</th>\n",
       "      <td>s0037</td>\n",
       "      <td>10257</td>\n",
       "      <td>1</td>\n",
       "      <td>1</td>\n",
       "      <td>0</td>\n",
       "      <td>0</td>\n",
       "      <td>1</td>\n",
       "      <td>1</td>\n",
       "    </tr>\n",
       "  </tbody>\n",
       "</table>\n",
       "<p>84898 rows × 8 columns</p>\n",
       "</div>"
      ],
      "text/plain": [
       "      SubjectID  ImageID  Gender  Glasses  Reflections  Lighting  SensorID  \\\n",
       "0         s0001        1       0        0            0         0         1   \n",
       "1         s0001        2       0        0            0         0         1   \n",
       "2         s0001        3       0        0            0         0         1   \n",
       "3         s0001        4       0        0            0         0         1   \n",
       "4         s0001        5       0        0            0         0         1   \n",
       "...         ...      ...     ...      ...          ...       ...       ...   \n",
       "84893     s0037    10253       1        1            0         0         1   \n",
       "84894     s0037    10254       1        1            0         0         1   \n",
       "84895     s0037    10255       1        1            0         0         1   \n",
       "84896     s0037    10256       1        1            0         0         1   \n",
       "84897     s0037    10257       1        1            0         0         1   \n",
       "\n",
       "       Eye_state  \n",
       "0              0  \n",
       "1              0  \n",
       "2              0  \n",
       "3              0  \n",
       "4              0  \n",
       "...          ...  \n",
       "84893          1  \n",
       "84894          1  \n",
       "84895          1  \n",
       "84896          1  \n",
       "84897          1  \n",
       "\n",
       "[84898 rows x 8 columns]"
      ]
     },
     "execution_count": 3,
     "metadata": {},
     "output_type": "execute_result"
    }
   ],
   "source": [
    "data"
   ]
  },
  {
   "cell_type": "code",
   "execution_count": 4,
   "metadata": {},
   "outputs": [],
   "source": [
    "h,w = 90,90 # desired height and width\n",
    "batch_size = 64\n",
    "N_images = 84898 #total number of images"
   ]
  },
  {
   "cell_type": "code",
   "execution_count": 5,
   "metadata": {},
   "outputs": [],
   "source": [
    "datagen = ImageDataGenerator(\n",
    "    rescale=1./255)"
   ]
  },
  {
   "cell_type": "code",
   "execution_count": 6,
   "metadata": {
    "scrolled": true
   },
   "outputs": [
    {
     "name": "stdout",
     "output_type": "stream",
     "text": [
      "Found 84898 images belonging to 37 classes.\n"
     ]
    }
   ],
   "source": [
    "data_iterator = datagen.flow_from_directory(\n",
    "    './Eyes',\n",
    "    shuffle = 'False',\n",
    "    color_mode='grayscale',\n",
    "    target_size=(h, w),\n",
    "    batch_size=batch_size,\n",
    "    class_mode = 'binary')"
   ]
  },
  {
   "cell_type": "code",
   "execution_count": 7,
   "metadata": {},
   "outputs": [
    {
     "data": {
      "text/plain": [
       "<matplotlib.image.AxesImage at 0x214d303efc8>"
      ]
     },
     "execution_count": 7,
     "metadata": {},
     "output_type": "execute_result"
    },
    {
     "data": {
      "image/png": "[encoded data removed]",
      "text/plain": [
       "<Figure size 432x288 with 1 Axes>"
      ]
     },
     "metadata": {
      "needs_background": "light"
     },
     "output_type": "display_data"
    }
   ],
   "source": [
    "plt.imshow(data_iterator[0][0][63].squeeze(), cmap = \"gray\")"
   ]
  },
  {
   "cell_type": "code",
   "execution_count": 8,
   "metadata": {},
   "outputs": [
    {
     "data": {
      "text/plain": [
       "(64, 90, 90, 1)"
      ]
     },
     "execution_count": 8,
     "metadata": {},
     "output_type": "execute_result"
    }
   ],
   "source": [
    "data_iterator[0][0].shape"
   ]
  },
  {
   "cell_type": "code",
   "execution_count": 9,
   "metadata": {},
   "outputs": [
    {
     "data": {
      "text/plain": [
       "(90, 1)"
      ]
     },
     "execution_count": 9,
     "metadata": {},
     "output_type": "execute_result"
    }
   ],
   "source": [
    "data_iterator[0][0][0][0].shape"
   ]
  },
  {
   "cell_type": "code",
   "execution_count": 10,
   "metadata": {
    "scrolled": true
   },
   "outputs": [],
   "source": [
    "def extract_images(generator, sample_count):\n",
    "    images = np.zeros(shape=(sample_count, h, w, 1))\n",
    "    i = 0\n",
    "    for images_batch, labels_batch in generator: # we are looping over batches\n",
    "        images[i*batch_size : (i+1)*batch_size] = images_batch\n",
    "        i += 1\n",
    "        if i*batch_size >= sample_count:\n",
    "            # we must break after every image has been seen once, because generators yield indifinitely in a loop\n",
    "            break\n",
    "    return images\n",
    "\n",
    "images = extract_images(data_iterator, 84864)"
   ]
  },
  {
   "cell_type": "code",
   "execution_count": 11,
   "metadata": {},
   "outputs": [],
   "source": [
    "from keras.models import Sequential\n",
    "from keras.layers import Conv2D, MaxPooling2D, Dense, Flatten"
   ]
  },
  {
   "cell_type": "markdown",
   "metadata": {},
   "source": [
    "Am ales sa creez un model secvential care are urmatoarele layere:\n",
    "Un layer de conversie 2D,\n",
    "Un layer de MaxPooling\n",
    "Un layer de Flatten\n",
    "Un layer de softmax care va returna 2 output-uri (unul pentru fiecare clasa posibila)"
   ]
  },
  {
   "cell_type": "code",
   "execution_count": 12,
   "metadata": {},
   "outputs": [],
   "source": [
    "from keras.layers import GRU, LeakyReLU"
   ]
  },
  {
   "cell_type": "code",
   "execution_count": 13,
   "metadata": {},
   "outputs": [
    {
     "name": "stdout",
     "output_type": "stream",
     "text": [
      "WARNING:tensorflow:From C:\\ProgramData\\Anaconda3\\lib\\site-packages\\tensorflow\\python\\ops\\resource_variable_ops.py:435: colocate_with (from tensorflow.python.framework.ops) is deprecated and will be removed in a future version.\n",
      "Instructions for updating:\n",
      "Colocations handled automatically by placer.\n"
     ]
    }
   ],
   "source": [
    "model = Sequential()\n",
    "num_filters = 8\n",
    "filter_size = 3\n",
    "pool_size = 2\n",
    "\n",
    "model = Sequential([\n",
    "  Conv2D(num_filters, filter_size, input_shape=(90, 90, 1)),\n",
    "  Conv2D(16, kernel_size=3, activation='relu'),\n",
    "  MaxPooling2D(pool_size=pool_size),\n",
    "  Flatten(),\n",
    "  Dense(8, activation = 'tanh'),\n",
    "  Dense(64, input_dim=60, activation='relu'),\n",
    "  Dense(32, activation='softplus'),\n",
    "  Dense(2, activation='softmax'), # Softmax va avea 2 layere. Cate unul pt fiecare clasa (Open/Closed)\n",
    "])"
   ]
  },
  {
   "cell_type": "code",
   "execution_count": 14,
   "metadata": {},
   "outputs": [],
   "source": [
    "model.compile(\n",
    "    'adam',\n",
    "    loss='binary_crossentropy',\n",
    "    metrics=['accuracy']\n",
    ")"
   ]
  },
  {
   "cell_type": "code",
   "execution_count": 15,
   "metadata": {},
   "outputs": [],
   "source": [
    "y_labels = data.iloc[:,-1]"
   ]
  },
  {
   "cell_type": "code",
   "execution_count": 16,
   "metadata": {},
   "outputs": [],
   "source": [
    "train_images = images[0:70000]\n",
    "test_images = images[70000:84864]\n",
    "train_labels = y_labels[0:70000]\n",
    "test_labels = y_labels[70000:84864]"
   ]
  },
  {
   "cell_type": "code",
   "execution_count": 17,
   "metadata": {},
   "outputs": [
    {
     "data": {
      "text/plain": [
       "array([0, 1], dtype=int64)"
      ]
     },
     "execution_count": 17,
     "metadata": {},
     "output_type": "execute_result"
    }
   ],
   "source": [
    "np.unique(train_labels)"
   ]
  },
  {
   "cell_type": "code",
   "execution_count": 18,
   "metadata": {
    "scrolled": true
   },
   "outputs": [
    {
     "name": "stdout",
     "output_type": "stream",
     "text": [
      "WARNING:tensorflow:From C:\\ProgramData\\Anaconda3\\lib\\site-packages\\tensorflow\\python\\ops\\math_ops.py:3066: to_int32 (from tensorflow.python.ops.math_ops) is deprecated and will be removed in a future version.\n",
      "Instructions for updating:\n",
      "Use tf.cast instead.\n",
      "Train on 70000 samples, validate on 14864 samples\n",
      "Epoch 1/3\n",
      "70000/70000 [==============================] - 188s 3ms/step - loss: 0.6951 - accuracy: 0.4978 - val_loss: 0.7044 - val_accuracy: 0.4416\n",
      "Epoch 2/3\n",
      "70000/70000 [==============================] - 191s 3ms/step - loss: 0.6943 - accuracy: 0.4993 - val_loss: 0.6940 - val_accuracy: 0.4416\n",
      "Epoch 3/3\n",
      "70000/70000 [==============================] - 187s 3ms/step - loss: 0.6941 - accuracy: 0.5011 - val_loss: 0.6957 - val_accuracy: 0.4416\n"
     ]
    },
    {
     "data": {
      "text/plain": [
       "<keras.callbacks.callbacks.History at 0x2161b8fbac8>"
      ]
     },
     "execution_count": 18,
     "metadata": {},
     "output_type": "execute_result"
    }
   ],
   "source": [
    "from keras.utils import to_categorical\n",
    "\n",
    "model.fit(\n",
    "  train_images,\n",
    "  to_categorical(train_labels),\n",
    "  epochs=3,\n",
    "  validation_data=(test_images, to_categorical(test_labels)),\n",
    ")"
   ]
  },
  {
   "cell_type": "code",
   "execution_count": 19,
   "metadata": {},
   "outputs": [],
   "source": [
    "model.save_weights('cnn.h5')"
   ]
  },
  {
   "cell_type": "code",
   "execution_count": 20,
   "metadata": {},
   "outputs": [],
   "source": [
    "predictions = model.predict(images[500:600])"
   ]
  },
  {
   "cell_type": "code",
   "execution_count": 21,
   "metadata": {
    "scrolled": true
   },
   "outputs": [
    {
     "data": {
      "text/plain": [
       "array([[0.5102072, 0.4897928],\n",
       "       [0.5102072, 0.4897928],\n",
       "       [0.5102072, 0.4897928],\n",
       "       [0.5102072, 0.4897928],\n",
       "       [0.5102072, 0.4897928],\n",
       "       [0.5102072, 0.4897928],\n",
       "       [0.5102072, 0.4897928],\n",
       "       [0.5102072, 0.4897928],\n",
       "       [0.5102072, 0.4897928],\n",
       "       [0.5102072, 0.4897928],\n",
       "       [0.5102072, 0.4897928],\n",
       "       [0.5102072, 0.4897928],\n",
       "       [0.5102072, 0.4897928],\n",
       "       [0.5102072, 0.4897928],\n",
       "       [0.5102072, 0.4897928],\n",
       "       [0.5102072, 0.4897928],\n",
       "       [0.5102072, 0.4897928],\n",
       "       [0.5102072, 0.4897928],\n",
       "       [0.5102072, 0.4897928],\n",
       "       [0.5102072, 0.4897928],\n",
       "       [0.5102072, 0.4897928],\n",
       "       [0.5102072, 0.4897928],\n",
       "       [0.5102072, 0.4897928],\n",
       "       [0.5102072, 0.4897928],\n",
       "       [0.5102072, 0.4897928],\n",
       "       [0.5102072, 0.4897928],\n",
       "       [0.5102072, 0.4897928],\n",
       "       [0.5102072, 0.4897928],\n",
       "       [0.5102072, 0.4897928],\n",
       "       [0.5102072, 0.4897928],\n",
       "       [0.5102072, 0.4897928],\n",
       "       [0.5102072, 0.4897928],\n",
       "       [0.5102072, 0.4897928],\n",
       "       [0.5102072, 0.4897928],\n",
       "       [0.5102072, 0.4897928],\n",
       "       [0.5102072, 0.4897928],\n",
       "       [0.5102072, 0.4897928],\n",
       "       [0.5102072, 0.4897928],\n",
       "       [0.5102072, 0.4897928],\n",
       "       [0.5102072, 0.4897928],\n",
       "       [0.5102072, 0.4897928],\n",
       "       [0.5102072, 0.4897928],\n",
       "       [0.5102072, 0.4897928],\n",
       "       [0.5102072, 0.4897928],\n",
       "       [0.5102072, 0.4897928],\n",
       "       [0.5102072, 0.4897928],\n",
       "       [0.5102072, 0.4897928],\n",
       "       [0.5102072, 0.4897928],\n",
       "       [0.5102072, 0.4897928],\n",
       "       [0.5102072, 0.4897928],\n",
       "       [0.5102072, 0.4897928],\n",
       "       [0.5102072, 0.4897928],\n",
       "       [0.5102072, 0.4897928],\n",
       "       [0.5102072, 0.4897928],\n",
       "       [0.5102072, 0.4897928],\n",
       "       [0.5102072, 0.4897928],\n",
       "       [0.5102072, 0.4897928],\n",
       "       [0.5102072, 0.4897928],\n",
       "       [0.5102072, 0.4897928],\n",
       "       [0.5102072, 0.4897928],\n",
       "       [0.5102072, 0.4897928],\n",
       "       [0.5102072, 0.4897928],\n",
       "       [0.5102072, 0.4897928],\n",
       "       [0.5102072, 0.4897928],\n",
       "       [0.5102072, 0.4897928],\n",
       "       [0.5102072, 0.4897928],\n",
       "       [0.5102072, 0.4897928],\n",
       "       [0.5102072, 0.4897928],\n",
       "       [0.5102072, 0.4897928],\n",
       "       [0.5102072, 0.4897928],\n",
       "       [0.5102072, 0.4897928],\n",
       "       [0.5102072, 0.4897928],\n",
       "       [0.5102072, 0.4897928],\n",
       "       [0.5102072, 0.4897928],\n",
       "       [0.5102072, 0.4897928],\n",
       "       [0.5102072, 0.4897928],\n",
       "       [0.5102072, 0.4897928],\n",
       "       [0.5102072, 0.4897928],\n",
       "       [0.5102072, 0.4897928],\n",
       "       [0.5102072, 0.4897928],\n",
       "       [0.5102072, 0.4897928],\n",
       "       [0.5102072, 0.4897928],\n",
       "       [0.5102072, 0.4897928],\n",
       "       [0.5102072, 0.4897928],\n",
       "       [0.5102072, 0.4897928],\n",
       "       [0.5102072, 0.4897928],\n",
       "       [0.5102072, 0.4897928],\n",
       "       [0.5102072, 0.4897928],\n",
       "       [0.5102072, 0.4897928],\n",
       "       [0.5102072, 0.4897928],\n",
       "       [0.5102072, 0.4897928],\n",
       "       [0.5102072, 0.4897928],\n",
       "       [0.5102072, 0.4897928],\n",
       "       [0.5102072, 0.4897928],\n",
       "       [0.5102072, 0.4897928],\n",
       "       [0.5102072, 0.4897928],\n",
       "       [0.5102072, 0.4897928],\n",
       "       [0.5102072, 0.4897928],\n",
       "       [0.5102072, 0.4897928],\n",
       "       [0.5102072, 0.4897928]], dtype=float32)"
      ]
     },
     "execution_count": 21,
     "metadata": {},
     "output_type": "execute_result"
    }
   ],
   "source": [
    "predictions"
   ]
  },
  {
   "cell_type": "code",
   "execution_count": 22,
   "metadata": {},
   "outputs": [
    {
     "data": {
      "text/plain": [
       "array([0, 0, 0, 0, 0, 0, 0, 0, 0, 0, 0, 0, 0, 0, 0, 0, 0, 0, 0, 0, 0, 0,\n",
       "       0, 0, 0, 0, 0, 0, 0, 0, 0, 0, 0, 0, 0, 0, 0, 0, 0, 0, 0, 0, 0, 0,\n",
       "       0, 0, 0, 0, 0, 0, 0, 0, 0, 0, 0, 0, 0, 0, 0, 0, 0, 0, 0, 0, 0, 0,\n",
       "       0, 0, 0, 0, 0, 0, 0, 0, 0, 0, 0, 0, 0, 0, 0, 0, 0, 0, 0, 0, 0, 0,\n",
       "       0, 0, 0, 0, 0, 0, 0, 0, 0, 0, 0, 0], dtype=int64)"
      ]
     },
     "execution_count": 22,
     "metadata": {},
     "output_type": "execute_result"
    }
   ],
   "source": [
    "preds = np.argmax(predictions, axis=1)\n",
    "preds"
   ]
  },
  {
   "cell_type": "code",
   "execution_count": 23,
   "metadata": {},
   "outputs": [
    {
     "name": "stdout",
     "output_type": "stream",
     "text": [
      "0    0\n",
      "1    0\n",
      "2    0\n",
      "3    0\n",
      "4    0\n",
      "Name: Eye_state, dtype: int64\n"
     ]
    }
   ],
   "source": [
    "print(train_labels[0:5])"
   ]
  },
  {
   "cell_type": "markdown",
   "metadata": {},
   "source": [
    "### Blink to text"
   ]
  },
  {
   "cell_type": "markdown",
   "metadata": {},
   "source": [
    "Acum ca avem un algoritm care detecteaza clipitul, putem sa alcatuim un dictionar care sa transforme aceste informatii in propozitii."
   ]
  },
  {
   "cell_type": "code",
   "execution_count": 24,
   "metadata": {},
   "outputs": [],
   "source": [
    "d = dict()\n",
    "d['1'] = \"Yes\"\n",
    "d['101'] = \"No\"\n",
    "d['10101'] = \"Hi\"\n",
    "d['1010101'] = \"I am\"\n",
    "d['101010101'] = \"Good\"\n",
    "d['10101010101'] = \"Thanks\"\n",
    "d['1010101010101'] = \"How are you?\""
   ]
  },
  {
   "cell_type": "code",
   "execution_count": 25,
   "metadata": {},
   "outputs": [],
   "source": [
    "def convert_sequence(seq):\n",
    "    string = \"\"\n",
    "    for number in seq:\n",
    "        string += str(number)\n",
    "    return string"
   ]
  },
  {
   "cell_type": "code",
   "execution_count": 26,
   "metadata": {},
   "outputs": [
    {
     "data": {
      "text/plain": [
       "'11111111000000111111111'"
      ]
     },
     "execution_count": 26,
     "metadata": {},
     "output_type": "execute_result"
    }
   ],
   "source": [
    "string = convert_sequence([1,1,1,1,1,1,1,1,0,0,0,0,0,0,1,1,1,1,1,1,1,1,1])\n",
    "string"
   ]
  },
  {
   "cell_type": "code",
   "execution_count": 27,
   "metadata": {},
   "outputs": [],
   "source": [
    "def stringClean(string):\n",
    "    if not string:\n",
    "        return \"\"\n",
    "    if len(string) == 1:\n",
    "        return string\n",
    "    if string[0] == string[1]:\n",
    "        return stringClean(string[1:])\n",
    "    return string[0] + stringClean(string[1:])"
   ]
  },
  {
   "cell_type": "code",
   "execution_count": 28,
   "metadata": {},
   "outputs": [
    {
     "data": {
      "text/plain": [
       "'No'"
      ]
     },
     "execution_count": 28,
     "metadata": {},
     "output_type": "execute_result"
    }
   ],
   "source": [
    "string = stringClean(string)\n",
    "d[string]"
   ]
  }
 ],
 "metadata": {
  "kernelspec": {
   "display_name": "Python 3",
   "language": "python",
   "name": "python3"
  },
  "language_info": {
   "codemirror_mode": {
    "name": "ipython",
    "version": 3
   },
   "file_extension": ".py",
   "mimetype": "text/x-python",
   "name": "python",
   "nbconvert_exporter": "python",
   "pygments_lexer": "ipython3",
   "version": "3.7.6"
  }
 },
 "nbformat": 4,
 "nbformat_minor": 4
}
